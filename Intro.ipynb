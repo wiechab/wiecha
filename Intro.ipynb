{
  "nbformat": 4,
  "nbformat_minor": 0,
  "metadata": {
    "colab": {
      "name": "Intro.ipynb",
      "provenance": [],
      "collapsed_sections": [],
      "authorship_tag": "ABX9TyPJ/JAxppPy9DgobOHFT30r",
      "include_colab_link": true
    },
    "kernelspec": {
      "name": "python3",
      "display_name": "Python 3"
    },
    "language_info": {
      "name": "python"
    }
  },
  "cells": [
    {
      "cell_type": "markdown",
      "metadata": {
        "id": "view-in-github",
        "colab_type": "text"
      },
      "source": [
        "<a href=\"https://colab.research.google.com/github/wiechab/wiecha/blob/master/Intro.ipynb\" target=\"_parent\"><img src=\"https://colab.research.google.com/assets/colab-badge.svg\" alt=\"Open In Colab\"/></a>"
      ]
    },
    {
      "cell_type": "code",
      "execution_count": 1,
      "metadata": {
        "colab": {
          "base_uri": "https://localhost:8080/"
        },
        "id": "k0lITvfPXXqs",
        "outputId": "22dc8e5f-1c91-498d-b972-0698428e91d5"
      },
      "outputs": [
        {
          "output_type": "stream",
          "name": "stdout",
          "text": [
            "Hallo cola\n"
          ]
        }
      ],
      "source": [
        "print(\"Hallo cola\")"
      ]
    },
    {
      "cell_type": "markdown",
      "source": [
        "*kursywa*# Nowa sekcja"
      ],
      "metadata": {
        "id": "RblhMp2kbjPY"
      }
    },
    {
      "cell_type": "markdown",
      "source": [
        "### Teksty"
      ],
      "metadata": {
        "id": "PWZycB5XbVlt"
      }
    }
  ]
}